{
 "cells": [
  {
   "cell_type": "code",
   "execution_count": null,
   "metadata": {},
   "outputs": [],
   "source": [
    "from keras.datasets import mnist\n",
    "import tensorflow as tf\n",
    "from tensorflow.keras import layers\n",
    "import matplotlib as mpl\n",
    "import matplotlib.pyplot as plt\n",
    "import numpy as np\n",
    "from keras.models import Sequential\n",
    "from keras.layers import Dense, Activation, Flatten, Conv2D\n",
    "\n",
    "(x_train, y_train), (x_test, y_test) = mnist.load_data()\n",
    "\n",
    "#print(x_train[0],y_train[0])\n",
    "\n",
    "x_train = x_train/255\n",
    "x_train = x_train.reshape(60000, 28, 28,1)\n",
    "x_test = x_test/255\n",
    "x_test = x_test.reshape(10000, 28, 28,1)\n",
    "y_train = y_train\n",
    "\n",
    "datagen = tf.keras.preprocessing.image.ImageDataGenerator(\n",
    "    featurewise_center=True,\n",
    "    featurewise_std_normalization=True,\n",
    "    rotation_range=20,\n",
    "    width_shift_range=0.2,\n",
    "    height_shift_range=0.2,\n",
    "    horizontal_flip=True)\n",
    "\n",
    "model = tf.keras.Sequential([tf.keras.layers.Flatten(),\n",
    "                             tf.keras.layers.Dense(128,activation = 'relu'),\n",
    "                             tf.keras.layers.Dense(10,activation = 'softmax')])\n",
    "\n",
    "datagen.fit(x_train.reshape(60000,28,28,1))\n",
    "\n",
    "model.compile('adam', loss='sparse_categorical_crossentropy', metrics=['acc'])\n",
    "\n",
    "x_aug_image=[]\n",
    "\n",
    "for x_batch,y_batch in datagen.flow(x_train, y_train, batch_size=32):\n",
    "    x_aug_image.append(x_batch)\n",
    "\n",
    "x_aug_image = np.asarray(x_aug_image)\n",
    "\n",
    "print(x_aug_image[4])\n",
    "\n",
    "#for x_batch,y_batch in datagen.flow(x_train, y_train, batch_size=10000):  \n",
    "  #model.fit_generator(x_batch, y_batch, steps_per_epoch=len(x_train) / 1000, validation_data=(x_test,y_test),validation_steps=1000, epochs=1)    \n",
    "\n",
    "#select an image indice\n",
    "# plot the image before and after Data Augmentation\n",
    "\n",
    "\n",
    "\n",
    "\n"
   ]
  },
  {
   "cell_type": "code",
   "execution_count": null,
   "metadata": {},
   "outputs": [],
   "source": []
  }
 ],
 "metadata": {
  "kernelspec": {
   "display_name": "Python 3",
   "language": "python",
   "name": "python3"
  },
  "language_info": {
   "codemirror_mode": {
    "name": "ipython",
    "version": 3
   },
   "file_extension": ".py",
   "mimetype": "text/x-python",
   "name": "python",
   "nbconvert_exporter": "python",
   "pygments_lexer": "ipython3",
   "version": "3.7.1"
  }
 },
 "nbformat": 4,
 "nbformat_minor": 2
}
