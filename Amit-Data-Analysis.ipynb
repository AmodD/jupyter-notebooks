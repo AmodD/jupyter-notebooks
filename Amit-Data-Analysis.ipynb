{
 "cells": [
  {
   "cell_type": "code",
   "execution_count": 45,
   "metadata": {},
   "outputs": [],
   "source": [
    "# Importing Libraries\n",
    "\n",
    "import pandas as pd\n",
    "import numpy as np\n",
    "import matplotlib.pyplot as plt"
   ]
  },
  {
   "cell_type": "code",
   "execution_count": 46,
   "metadata": {},
   "outputs": [
    {
     "data": {
      "text/plain": [
       "Index(['TXN_SEQ_NO', 'STAN', 'TXN_LOCAL_DATE', 'PROC_DATE_TIME',\n",
       "       'RESP_DATE_TIME', 'RECON_DATE_TIME', 'CAPT_DATE', 'PAN', 'FUNDING_ACCT',\n",
       "       'ISSUER', 'BIN', 'ACQ_INST', 'ACQ_BK_CODE', 'ACQ_COUNTRY', 'FWD_INST',\n",
       "       'FWD_BK_CODE', 'FWD_COUNTRY', 'TXN_AMT', 'TXN_CURR', 'BILL_AMT',\n",
       "       'BILL_CURR', 'RECON_AMT', 'RECON_CURR', 'REMAINING_BAL', 'FX_RATE',\n",
       "       'FX_CONV_DATE', 'REFUND', 'CASHBACK', 'FROM', 'TO', 'PROD_TYPE', 'F3_1',\n",
       "       'F3_2', 'F3_3', 'TERM_CARD_READ_CAP', 'TERM_CH_VERI_CAP',\n",
       "       'TERM_CARD_CAPTURE_CAP', 'TERM_ATTEND_CAP', 'CH_PRESENCE_IND',\n",
       "       'CARD_PRESENCE_IND', 'TXN_CARD_READ_IND', 'TXN_CH_VERI_IND',\n",
       "       'TXN_CARD_VERI_IND', 'TRACK_REWRITE_CAP', 'TERM_OUTPUT_IND',\n",
       "       'PIN_ENTRY_IND', 'SEC_IND', 'MCC', 'TID', 'MID', 'MERCH_NAME_ADDRESS',\n",
       "       'AUTH_CODE', 'DE39', 'SOURCE', 'ROUTING', 'CAPTURE', '3DS_CODE',\n",
       "       '3DS_TXN_ID', '3DS_VAL_CODE', 'MC_VISA_AMEX', 'CHANNEL', 'CODE_C_20',\n",
       "       'CODE_D_1', 'CODE_D_2', 'CODE_N_1', 'CODE_N2', 'CODE_ACCT2',\n",
       "       'CODE_PMT_INFO', 'CHIP_DATA', 'ONLINE_TXN_DETAILS', 'ONLINE_TXN_CODE',\n",
       "       'DE48', 'ADDL_DATA', 'DE22', 'REMITTER', 'MULTI_FLAG', 'MULTI_AMT',\n",
       "       'QR_DATA', 'TOKEN_DATA', 'TOKEN_RQ', 'AG_HUNCH'],\n",
       "      dtype='object')"
      ]
     },
     "execution_count": 46,
     "metadata": {},
     "output_type": "execute_result"
    }
   ],
   "source": [
    "# Importing the data\n",
    "\n",
    "data = pd.read_excel(\"Sample_Data_for Modelling.xlsx\")\n",
    "\n",
    "data.describe()\n",
    "data.columns"
   ]
  },
  {
   "cell_type": "code",
   "execution_count": 149,
   "metadata": {},
   "outputs": [],
   "source": [
    "# Data Exploration\n",
    "Total_Txns = data.TXN_SEQ_NO.count()\n",
    "Total_Txns\n",
    "\n",
    "\n",
    "Visa_Txns = data.MC_VISA_AMEX[data.MC_VISA_AMEX=='VI'].count()\n",
    "Mastercard_Txns = data.MC_VISA_AMEX[data.MC_VISA_AMEX=='MA'].count()\n",
    "Rupay_Txns = data.MC_VISA_AMEX[data.MC_VISA_AMEX=='AX'].count()\n",
    "\n",
    "#Rupay_Txns\n",
    "#data.CAPTURE.unique()\n",
    "#data.TXN_AMT.value_counts()\n",
    "\n",
    "for cols in data.columns:\n",
    "    if data[cols].dtype == 'float64':\n",
    "        data[cols].fillna((data[cols].mean()),inplace=True)  \n",
    "    \n"
   ]
  },
  {
   "cell_type": "code",
   "execution_count": 181,
   "metadata": {},
   "outputs": [
    {
     "data": {
      "text/plain": [
       "GOOD              21117\n",
       "POSSIBLE_FRAUD       36\n",
       "FRAUD                26\n",
       "Name: AG_HUNCH, dtype: int64"
      ]
     },
     "execution_count": 181,
     "metadata": {},
     "output_type": "execute_result"
    }
   ],
   "source": [
    "# Data Cleansing and PreProcessing\n",
    "\n",
    "# Hadling Missing Values in the column Age\n",
    "#data[\"ISSUER\"].fillna((data[\"ISSUER\"].mean()),inplace=True) \n",
    "#data[\"ACQ_BK_CODE\"].fillna((data[\"ACQ_BK_CODE\"].mean()),inplace=True) \n",
    "#data[\"FWD_INST\"].fillna((data[\"FWD_INST\"].mean()),inplace=True) \n",
    "#data[\"FWD_BK_CODE\"].fillna((data[\"FWD_BK_CODE\"].mean()),inplace=True) \n",
    "\n",
    "#data = data.dropna(axis=0) # remvoving records with no values \n",
    "\n",
    "# Removal of Columns\n",
    "cols = ['FUNDING_ACCT','MULTI_FLAG','MULTI_AMT','TOKEN_RQ','CHIP_DATA','CODE_PMT_INFO', 'ONLINE_TXN_DETAILS',\n",
    "        'ONLINE_TXN_CODE','CODE_D_2','CODE_N_1', 'CODE_N2', 'CODE_ACCT2','3DS_TXN_ID', '3DS_VAL_CODE','3DS_CODE'] \n",
    "#cols = []\n",
    "data_set = data.drop(cols,axis=1)\n",
    "#data_set = data[['CODE_D_1','AG_HUNCH']]\n",
    "\n",
    "# Extraction of target and dependent variables\n",
    "x = data_set.drop(\"AG_HUNCH\", axis =1)\n",
    "y = data_set.AG_HUNCH.fillna(\"GOOD\")\n",
    "\n",
    "# encode all the features those are not numerical \n",
    "# ( Note:  assuming all are the ordinal categories, ideally for nominal categories need to convert them in one-hot-coding )\n",
    "# Assignment - Change all nominal to one-hot-coding and ordinal attributes into pandas encoding.\n",
    "for feature in x.columns:\n",
    "    if x[feature].dtype == 'object':\n",
    "        x[feature] = pd.Categorical(x[feature]).codes \n",
    "        \n",
    "# Splitting into train and test data \n",
    "#from sklearn.cross_validation import train_test_split\n",
    "from sklearn.model_selection import train_test_split\n",
    "x_train, x_test, y_train, y_test = train_test_split(x,y,test_size = .20, random_state = 0)    \n",
    "\n",
    "#y.value_counts()\n",
    "y_test.value_counts()"
   ]
  },
  {
   "cell_type": "code",
   "execution_count": 180,
   "metadata": {},
   "outputs": [
    {
     "data": {
      "text/plain": [
       "0.9966409000768951"
      ]
     },
     "execution_count": 180,
     "metadata": {},
     "output_type": "execute_result"
    }
   ],
   "source": [
    "# Logistic Regression\n",
    "from sklearn.linear_model import LogisticRegression\n",
    "from sklearn import metrics\n",
    "\n",
    "logreg = LogisticRegression()\n",
    "logreg.fit(x_train,y_train)\n",
    "y_pred = logreg.predict(x_test)\n",
    "\n",
    "metrics.accuracy_score(y_test, y_pred)"
   ]
  },
  {
   "cell_type": "code",
   "execution_count": 176,
   "metadata": {},
   "outputs": [
    {
     "data": {
      "text/plain": [
       "1.0"
      ]
     },
     "execution_count": 176,
     "metadata": {},
     "output_type": "execute_result"
    }
   ],
   "source": [
    "# Decision Tree Classifier\n",
    "from sklearn.tree import DecisionTreeClassifier\n",
    "\n",
    "\n",
    "tree_model = DecisionTreeClassifier()\n",
    "tree_model.fit(x_train,y_train)\n",
    "y_pred = tree_model.predict(x_test)\n",
    "\n",
    "metrics.accuracy_score(y_test, y_pred)"
   ]
  },
  {
   "cell_type": "code",
   "execution_count": 170,
   "metadata": {},
   "outputs": [
    {
     "data": {
      "text/plain": [
       "0.9999622270907306"
      ]
     },
     "execution_count": 170,
     "metadata": {},
     "output_type": "execute_result"
    }
   ],
   "source": [
    "# Random Forest\n",
    "from sklearn.ensemble import RandomForestClassifier\n",
    "\n",
    "rf_model = RandomForestClassifier()\n",
    "rf_model.fit(x_train,y_train)\n",
    "y_pred = rf_model.predict(x_test)\n",
    "\n",
    "metrics.accuracy_score(y_test, y_pred)"
   ]
  },
  {
   "cell_type": "code",
   "execution_count": 171,
   "metadata": {},
   "outputs": [
    {
     "data": {
      "text/plain": [
       "0.9967137568935559"
      ]
     },
     "execution_count": 171,
     "metadata": {},
     "output_type": "execute_result"
    }
   ],
   "source": [
    "# SVM Classifier\n",
    "from sklearn.svm import SVC\n",
    "\n",
    "svm_model = SVC()\n",
    "svm_model.fit(x_train,y_train)\n",
    "y_pred = svm_model.predict(x_test)\n",
    "\n",
    "metrics.accuracy_score(y_test, y_pred)"
   ]
  },
  {
   "cell_type": "code",
   "execution_count": 172,
   "metadata": {},
   "outputs": [
    {
     "data": {
      "text/plain": [
       "1.0"
      ]
     },
     "execution_count": 172,
     "metadata": {},
     "output_type": "execute_result"
    }
   ],
   "source": [
    "# Gradient boosting\n",
    "from sklearn.ensemble import GradientBoostingClassifier\n",
    "gb_model = GradientBoostingClassifier()\n",
    "gb_model.fit(x_train, y_train)\n",
    "y_pred = gb_model.predict(x_test)\n",
    "\n",
    "metrics.accuracy_score(y_test, y_pred)"
   ]
  }
 ],
 "metadata": {
  "kernelspec": {
   "display_name": "Python 3",
   "language": "python",
   "name": "python3"
  },
  "language_info": {
   "codemirror_mode": {
    "name": "ipython",
    "version": 3
   },
   "file_extension": ".py",
   "mimetype": "text/x-python",
   "name": "python",
   "nbconvert_exporter": "python",
   "pygments_lexer": "ipython3",
   "version": "3.7.0"
  }
 },
 "nbformat": 4,
 "nbformat_minor": 2
}
